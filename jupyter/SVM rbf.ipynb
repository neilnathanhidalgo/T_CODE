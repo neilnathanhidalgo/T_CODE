{
 "cells": [
  {
   "cell_type": "code",
   "execution_count": 1,
   "id": "initial_id",
   "metadata": {
    "collapsed": true,
    "ExecuteTime": {
     "end_time": "2023-12-01T15:46:37.154242200Z",
     "start_time": "2023-12-01T15:46:34.875688800Z"
    }
   },
   "outputs": [],
   "source": [
    "from sklearn.svm import SVC\n",
    "from sklearn.model_selection import RepeatedKFold, cross_val_score\n",
    "from sklearn import metrics\n",
    "import numpy as np\n",
    "import pandas as pd\n",
    "import matplotlib.pyplot as plt\n",
    "from sklearn.model_selection import train_test_split"
   ]
  },
  {
   "cell_type": "code",
   "execution_count": 2,
   "outputs": [
    {
     "data": {
      "text/plain": "   Acctr_tChest_X(m/s2)  Acctr_tChest_Y(m/s2)  Acctr_tChest_Z(m/s2)  \\\n0               -9.4945              -1.03400              -1.04040   \n1               -9.5761              -0.99217              -1.26820   \n2               -9.6850              -1.10510              -1.19420   \n3               -9.3680              -0.79141              -0.93438   \n4               -9.5541              -1.08310              -1.24480   \n\n   L1_tChest(Mv)  L2_tChest(Mv)  Acctr_tLA_X(m/s2)  Acctr_tLA_Y(m/s2)  \\\n0      -0.079540       -0.12977            0.26331            -9.6396   \n1      -0.079540       -0.12977            0.36777            -9.7072   \n2      -0.092098       -0.12140            0.48946            -9.6479   \n3      -0.092098       -0.12977            0.27516            -9.6480   \n4      -0.075353       -0.11722            0.33479            -9.5896   \n\n   Acctr_tLA_Z(m/s2)  Gype_tLA_X(deg/s)  Gype_tLA_Y(deg/s)  ...  \\\n0             1.3852            0.70501           -0.47842  ...   \n1             1.5600            0.72356           -0.48218  ...   \n2             1.5433            0.72356           -0.48218  ...   \n3             1.5412            0.69388           -0.48593  ...   \n4             1.4405            0.69388           -0.48593  ...   \n\n   Acctr_tRLA_Z(m/s2)  Gype_tRLA_X(deg/s)  Gype_tRLA_Y(deg/s)  \\\n0              3.9951             0.66275            -0.43326   \n1              4.1479             0.66275            -0.43326   \n2              4.0750             0.66275            -0.43326   \n3              4.1434             0.66667            -0.44353   \n4              4.0124             0.66667            -0.44353   \n\n   Gype_tRLA_Z(deg/s)  MgFld_tRLA_X(uT)  MgFld_tRLA_X(T)  MgFld_tRLA_Y(uT)  \\\n0             0.66595           0.54755     5.475500e-07           0.89477   \n1             0.66595           0.72351     7.235100e-07           0.53732   \n2             0.66595           0.54577     5.457700e-07           0.71692   \n3             0.66810           0.54392     5.439200e-07           0.53186   \n4             0.66810           0.72539     7.253900e-07           0.72599   \n\n   MgFld_tRLA_Y(T)  MgFld_tRLA_Z(uT)  MgFld_tRLA_Z(T)  \n0     8.947700e-07         -0.720020    -7.200200e-07  \n1     5.373200e-07          0.009097     9.096900e-09  \n2     7.169200e-07         -0.357260    -3.572600e-07  \n3     5.318600e-07         -0.716460    -7.164600e-07  \n4     7.259900e-07          0.729270     7.292700e-07  \n\n[5 rows x 29 columns]",
      "text/html": "<div>\n<style scoped>\n    .dataframe tbody tr th:only-of-type {\n        vertical-align: middle;\n    }\n\n    .dataframe tbody tr th {\n        vertical-align: top;\n    }\n\n    .dataframe thead th {\n        text-align: right;\n    }\n</style>\n<table border=\"1\" class=\"dataframe\">\n  <thead>\n    <tr style=\"text-align: right;\">\n      <th></th>\n      <th>Acctr_tChest_X(m/s2)</th>\n      <th>Acctr_tChest_Y(m/s2)</th>\n      <th>Acctr_tChest_Z(m/s2)</th>\n      <th>L1_tChest(Mv)</th>\n      <th>L2_tChest(Mv)</th>\n      <th>Acctr_tLA_X(m/s2)</th>\n      <th>Acctr_tLA_Y(m/s2)</th>\n      <th>Acctr_tLA_Z(m/s2)</th>\n      <th>Gype_tLA_X(deg/s)</th>\n      <th>Gype_tLA_Y(deg/s)</th>\n      <th>...</th>\n      <th>Acctr_tRLA_Z(m/s2)</th>\n      <th>Gype_tRLA_X(deg/s)</th>\n      <th>Gype_tRLA_Y(deg/s)</th>\n      <th>Gype_tRLA_Z(deg/s)</th>\n      <th>MgFld_tRLA_X(uT)</th>\n      <th>MgFld_tRLA_X(T)</th>\n      <th>MgFld_tRLA_Y(uT)</th>\n      <th>MgFld_tRLA_Y(T)</th>\n      <th>MgFld_tRLA_Z(uT)</th>\n      <th>MgFld_tRLA_Z(T)</th>\n    </tr>\n  </thead>\n  <tbody>\n    <tr>\n      <th>0</th>\n      <td>-9.4945</td>\n      <td>-1.03400</td>\n      <td>-1.04040</td>\n      <td>-0.079540</td>\n      <td>-0.12977</td>\n      <td>0.26331</td>\n      <td>-9.6396</td>\n      <td>1.3852</td>\n      <td>0.70501</td>\n      <td>-0.47842</td>\n      <td>...</td>\n      <td>3.9951</td>\n      <td>0.66275</td>\n      <td>-0.43326</td>\n      <td>0.66595</td>\n      <td>0.54755</td>\n      <td>5.475500e-07</td>\n      <td>0.89477</td>\n      <td>8.947700e-07</td>\n      <td>-0.720020</td>\n      <td>-7.200200e-07</td>\n    </tr>\n    <tr>\n      <th>1</th>\n      <td>-9.5761</td>\n      <td>-0.99217</td>\n      <td>-1.26820</td>\n      <td>-0.079540</td>\n      <td>-0.12977</td>\n      <td>0.36777</td>\n      <td>-9.7072</td>\n      <td>1.5600</td>\n      <td>0.72356</td>\n      <td>-0.48218</td>\n      <td>...</td>\n      <td>4.1479</td>\n      <td>0.66275</td>\n      <td>-0.43326</td>\n      <td>0.66595</td>\n      <td>0.72351</td>\n      <td>7.235100e-07</td>\n      <td>0.53732</td>\n      <td>5.373200e-07</td>\n      <td>0.009097</td>\n      <td>9.096900e-09</td>\n    </tr>\n    <tr>\n      <th>2</th>\n      <td>-9.6850</td>\n      <td>-1.10510</td>\n      <td>-1.19420</td>\n      <td>-0.092098</td>\n      <td>-0.12140</td>\n      <td>0.48946</td>\n      <td>-9.6479</td>\n      <td>1.5433</td>\n      <td>0.72356</td>\n      <td>-0.48218</td>\n      <td>...</td>\n      <td>4.0750</td>\n      <td>0.66275</td>\n      <td>-0.43326</td>\n      <td>0.66595</td>\n      <td>0.54577</td>\n      <td>5.457700e-07</td>\n      <td>0.71692</td>\n      <td>7.169200e-07</td>\n      <td>-0.357260</td>\n      <td>-3.572600e-07</td>\n    </tr>\n    <tr>\n      <th>3</th>\n      <td>-9.3680</td>\n      <td>-0.79141</td>\n      <td>-0.93438</td>\n      <td>-0.092098</td>\n      <td>-0.12977</td>\n      <td>0.27516</td>\n      <td>-9.6480</td>\n      <td>1.5412</td>\n      <td>0.69388</td>\n      <td>-0.48593</td>\n      <td>...</td>\n      <td>4.1434</td>\n      <td>0.66667</td>\n      <td>-0.44353</td>\n      <td>0.66810</td>\n      <td>0.54392</td>\n      <td>5.439200e-07</td>\n      <td>0.53186</td>\n      <td>5.318600e-07</td>\n      <td>-0.716460</td>\n      <td>-7.164600e-07</td>\n    </tr>\n    <tr>\n      <th>4</th>\n      <td>-9.5541</td>\n      <td>-1.08310</td>\n      <td>-1.24480</td>\n      <td>-0.075353</td>\n      <td>-0.11722</td>\n      <td>0.33479</td>\n      <td>-9.5896</td>\n      <td>1.4405</td>\n      <td>0.69388</td>\n      <td>-0.48593</td>\n      <td>...</td>\n      <td>4.0124</td>\n      <td>0.66667</td>\n      <td>-0.44353</td>\n      <td>0.66810</td>\n      <td>0.72539</td>\n      <td>7.253900e-07</td>\n      <td>0.72599</td>\n      <td>7.259900e-07</td>\n      <td>0.729270</td>\n      <td>7.292700e-07</td>\n    </tr>\n  </tbody>\n</table>\n<p>5 rows × 29 columns</p>\n</div>"
     },
     "execution_count": 2,
     "metadata": {},
     "output_type": "execute_result"
    }
   ],
   "source": [
    "data = pd.read_csv(\"../windows_datasets_FJSMC/datasets/DS utilizados/MHEALTHDATASET_S10_98.csv\")\n",
    "data.drop([\"Sensor\", \"ID_MHE\"], axis=1, inplace=True)\n",
    "\n",
    "subjects = data[\"Subject\"]\n",
    "\n",
    "data.drop(\"Subject\", axis=1, inplace=True)\n",
    "\n",
    "y = data[\"Activity_Number\"]\n",
    "\n",
    "data.drop(\"Activity_Number\", axis=1, inplace=True)\n",
    "\n",
    "x = data[data.columns.to_list()]\n",
    "\n",
    "x.head()"
   ],
   "metadata": {
    "collapsed": false,
    "ExecuteTime": {
     "end_time": "2023-12-01T15:46:40.071524100Z",
     "start_time": "2023-12-01T15:46:38.972361500Z"
    }
   },
   "id": "79aa3f847db51c31"
  },
  {
   "cell_type": "code",
   "execution_count": 3,
   "outputs": [],
   "source": [
    "x = (x-x.min(axis = 0))/(x.max(axis = 0) - x.min(axis = 0))\n",
    "\n",
    "x = np.array(x)"
   ],
   "metadata": {
    "collapsed": false,
    "ExecuteTime": {
     "end_time": "2023-12-01T15:47:02.708130200Z",
     "start_time": "2023-12-01T15:47:02.613122Z"
    }
   },
   "id": "e7fe77ff71157499"
  },
  {
   "cell_type": "code",
   "execution_count": null,
   "outputs": [],
   "source": [
    "# Configuración de hiperparámetros\n",
    "C_values = np.logspace(-3, 3, 13)  # Rango de valores de C en escala logarítmica\n",
    "\n",
    "n_repeats = 20\n",
    "k_folds = 10\n",
    "\n",
    "svm_acc = np.zeros(len(C_values))\n",
    "\n",
    "for i, C in enumerate(C_values):\n",
    "    print(\"C =\", C)\n",
    "\n",
    "    cv = RepeatedKFold(n_splits=k_folds, n_repeats=n_repeats)\n",
    "\n",
    "    # Crear modelo SVM con kernel RBF\n",
    "    model = SVC(kernel='rbf', C=C, gamma=0.001)\n",
    "\n",
    "    # Evaluar el modelo utilizando validación cruzada\n",
    "    acc = cross_val_score(model, x, y, scoring=metrics.make_scorer(metrics.accuracy_score), cv=cv, n_jobs=-1)\n",
    "\n",
    "    # Calcular precisión media\n",
    "    svm_acc[i] = acc.mean()\n",
    "\n",
    "# Encontrar el valor de C que maximiza la precisión media\n",
    "best_C_index = np.argmax(svm_acc)\n",
    "best_C = C_values[best_C_index]\n",
    "\n",
    "print(\"Mejor valor de C:\", best_C)\n",
    "\n"
   ],
   "metadata": {
    "collapsed": false
   },
   "id": "6284d87ebd8e72e4"
  },
  {
   "cell_type": "code",
   "execution_count": 5,
   "outputs": [
    {
     "name": "stdout",
     "output_type": "stream",
     "text": [
      "0.8141592920353983\n",
      "0.8141592920353983\n",
      "[[5831   96   63   61   18    1   46   59   40  123   66   61    0]\n",
      " [   6  298    0    0    0    0    0    0    0    0    0    0    0]\n",
      " [ 221    0  103    0    0    0    0    0    0    0    0    0    0]\n",
      " [   0    0    0  323    0    0    0    0    0    0    0    0    0]\n",
      " [ 181    0    0    0   90    0    0    0    0    0    0    0    0]\n",
      " [ 292    0    0    0    6   10    0    0   13    0    0    0    0]\n",
      " [ 101    0    0    0    0    0  137    0    0    0    0    0    0]\n",
      " [  70    0    0    0    0    0    0  210    0    0    0    0    0]\n",
      " [ 134    0    0    0    0    0    0    0  145    0    0    0    0]\n",
      " [   0    0    0    0    0    0    0    0    0  328    0    0    0]\n",
      " [  52    0    0    0    0    0    0    0    0    0  266    0    0]\n",
      " [  12    0    0    0    0    0    0    0    0    0    0  263    0]\n",
      " [ 105    0    0    0    0    0    0    0    0    0    0    0    0]]\n",
      "[0.8657758  0.85386819 0.42040816 0.91371994 0.46753247 0.06024096\n",
      " 0.65083135 0.76502732 0.60796646 0.84210526 0.81846154 0.87813022\n",
      " 0.        ]\n",
      "              precision    recall  f1-score   support\n",
      "\n",
      "    MHE_A_00       0.83      0.90      0.87      6465\n",
      "    MHE_A_01       0.76      0.98      0.85       304\n",
      "    MHE_A_02       0.62      0.32      0.42       324\n",
      "    MHE_A_03       0.84      1.00      0.91       323\n",
      "    MHE_A_04       0.79      0.33      0.47       271\n",
      "    MHE_A_05       0.91      0.03      0.06       321\n",
      "    MHE_A_06       0.75      0.58      0.65       238\n",
      "    MHE_A_07       0.78      0.75      0.77       280\n",
      "    MHE_A_08       0.73      0.52      0.61       279\n",
      "    MHE_A_09       0.73      1.00      0.84       328\n",
      "    MHE_A_10       0.80      0.84      0.82       318\n",
      "    MHE_A_11       0.81      0.96      0.88       275\n",
      "    MHE_A_12       0.00      0.00      0.00       105\n",
      "\n",
      "    accuracy                           0.81      9831\n",
      "   macro avg       0.72      0.63      0.63      9831\n",
      "weighted avg       0.80      0.81      0.79      9831\n"
     ]
    },
    {
     "name": "stderr",
     "output_type": "stream",
     "text": [
      "C:\\Users\\User\\AppData\\Local\\Programs\\Python\\Python311\\Lib\\site-packages\\sklearn\\metrics\\_classification.py:1471: UndefinedMetricWarning: Precision and F-score are ill-defined and being set to 0.0 in labels with no predicted samples. Use `zero_division` parameter to control this behavior.\n",
      "  _warn_prf(average, modifier, msg_start, len(result))\n",
      "C:\\Users\\User\\AppData\\Local\\Programs\\Python\\Python311\\Lib\\site-packages\\sklearn\\metrics\\_classification.py:1471: UndefinedMetricWarning: Precision and F-score are ill-defined and being set to 0.0 in labels with no predicted samples. Use `zero_division` parameter to control this behavior.\n",
      "  _warn_prf(average, modifier, msg_start, len(result))\n",
      "C:\\Users\\User\\AppData\\Local\\Programs\\Python\\Python311\\Lib\\site-packages\\sklearn\\metrics\\_classification.py:1471: UndefinedMetricWarning: Precision and F-score are ill-defined and being set to 0.0 in labels with no predicted samples. Use `zero_division` parameter to control this behavior.\n",
      "  _warn_prf(average, modifier, msg_start, len(result))\n"
     ]
    }
   ],
   "source": [
    "X_train, X_test, y_train, y_test = train_test_split(x, y, test_size=0.1)\n",
    "\n",
    "model = SVC(C=100,kernel=\"rbf\",gamma=0.001)\n",
    "model.fit(X_train, y_train)\n",
    "\n",
    "y_train_hat = model.predict(X_train)\n",
    "y_test_hat = model.predict(X_test)\n",
    "\n",
    "print(model.score(X_test, y_test))\n",
    "print(metrics.accuracy_score(y_test, y_test_hat))\n",
    "print(metrics.confusion_matrix(y_test, y_test_hat))\n",
    "print(metrics.f1_score(y_test, y_test_hat, average=None))\n",
    "print(metrics.classification_report(y_test, y_test_hat))"
   ],
   "metadata": {
    "collapsed": false,
    "ExecuteTime": {
     "end_time": "2023-12-01T16:38:42.981881200Z",
     "start_time": "2023-12-01T16:24:23.183770400Z"
    }
   },
   "id": "fb3f416b310b0be1"
  },
  {
   "cell_type": "code",
   "execution_count": null,
   "outputs": [],
   "source": [
    "from sklearn.model_selection import GridSearchCV, StratifiedShuffleSplit\n",
    "from sklearn.svm import SVC\n",
    "\n",
    "C_range = np.logspace(-2, 10, 13)\n",
    "gamma_range = np.logspace(-9, 3, 13)\n",
    "param_grid = dict(gamma=gamma_range, C=C_range)\n",
    "cv = StratifiedShuffleSplit(n_splits=10, test_size=0.1)\n",
    "grid = GridSearchCV(SVC(), param_grid=param_grid, cv=cv, n_jobs=-1)\n",
    "grid.fit(x, y)\n",
    "\n",
    "print(\n",
    "    \"The best parameters are %s with a score of %0.2f\"\n",
    "    % (grid.best_params_, grid.best_score_)\n",
    ")"
   ],
   "metadata": {
    "collapsed": false
   },
   "id": "a409aa3de7cf997f"
  }
 ],
 "metadata": {
  "kernelspec": {
   "display_name": "Python 3",
   "language": "python",
   "name": "python3"
  },
  "language_info": {
   "codemirror_mode": {
    "name": "ipython",
    "version": 2
   },
   "file_extension": ".py",
   "mimetype": "text/x-python",
   "name": "python",
   "nbconvert_exporter": "python",
   "pygments_lexer": "ipython2",
   "version": "2.7.6"
  }
 },
 "nbformat": 4,
 "nbformat_minor": 5
}
