{
 "cells": [
  {
   "cell_type": "code",
   "execution_count": null,
   "outputs": [],
   "source": [
    "from kneed import KneeLocator"
   ],
   "metadata": {
    "collapsed": false
   },
   "id": "4e039e4499f615d3"
  },
  {
   "cell_type": "code",
   "execution_count": null,
   "outputs": [],
   "source": [
    "kneedle = KneeLocator(x, y, S=1.0, curve=\"concave\", direction=\"increasing\")\n",
    "\n",
    "print(round(kneedle.knee, 3))"
   ],
   "metadata": {
    "collapsed": false
   },
   "id": "2ad26179a728fc12"
  },
  {
   "cell_type": "code",
   "execution_count": null,
   "outputs": [],
   "source": [
    "print(round(kneedle.knee_y, 3))\n",
    "kneedle.plot_knee_normalized()\n",
    "kneedle.plot_knee()"
   ],
   "metadata": {
    "collapsed": false
   },
   "id": "e7198ec4fc77f4df"
  }
 ],
 "metadata": {
  "kernelspec": {
   "display_name": "Python 3",
   "language": "python",
   "name": "python3"
  },
  "language_info": {
   "codemirror_mode": {
    "name": "ipython",
    "version": 2
   },
   "file_extension": ".py",
   "mimetype": "text/x-python",
   "name": "python",
   "nbconvert_exporter": "python",
   "pygments_lexer": "ipython2",
   "version": "2.7.6"
  }
 },
 "nbformat": 4,
 "nbformat_minor": 5
}
