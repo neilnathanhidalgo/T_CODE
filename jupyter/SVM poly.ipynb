{
 "cells": [
  {
   "cell_type": "code",
   "execution_count": null,
   "id": "initial_id",
   "metadata": {
    "collapsed": true
   },
   "outputs": [],
   "source": [
    "from sklearn.svm import SVC\n",
    "from sklearn.model_selection import RepeatedKFold, cross_val_score\n",
    "from sklearn import metrics\n",
    "import numpy as np\n",
    "import pandas as pd\n",
    "import matplotlib.pyplot as plt\n",
    "from sklearn.model_selection import train_test_split"
   ]
  },
  {
   "cell_type": "code",
   "execution_count": null,
   "outputs": [],
   "source": [
    "data = pd.read_csv(\"../windows_datasets_FJSMC/datasets/DS utilizados/MHEALTHDATASET_S10_98.csv\")\n",
    "data.drop([\"Sensor\", \"ID_MHE\"], axis=1, inplace=True)\n",
    "\n",
    "subjects = data[\"Subject\"]\n",
    "\n",
    "data.drop(\"Subject\", axis=1, inplace=True)\n",
    "\n",
    "y = data[\"Activity_Number\"]\n",
    "\n",
    "data.drop(\"Activity_Number\", axis=1, inplace=True)\n",
    "\n",
    "x = data[data.columns.to_list()]\n",
    "\n",
    "x.head()"
   ],
   "metadata": {
    "collapsed": false
   },
   "id": "79aa3f847db51c31"
  },
  {
   "cell_type": "code",
   "execution_count": null,
   "outputs": [],
   "source": [
    "C_values = np.logspace(-3, 3, 7)\n",
    "\n",
    "n_repeats = 20\n",
    "k_folds = 10\n",
    "\n",
    "svm_acc = np.zeros(len(C_values))\n",
    "\n",
    "for i, C in enumerate(C_values):\n",
    "    print(\"C =\", C)\n",
    "\n",
    "    cv = RepeatedKFold(n_splits=k_folds, n_repeats=n_repeats)\n",
    "\n",
    "    model = SVC(kernel='poly', C=C, degree=3)\n",
    "\n",
    "    acc = cross_val_score(model, x, y, scoring=metrics.make_scorer(metrics.accuracy_score), cv=cv, n_jobs=-1)\n",
    "\n",
    "    svm_acc[i] = acc.mean()\n",
    "\n",
    "best_C_index = np.argmax(svm_acc)\n",
    "best_C = C_values[best_C_index]\n",
    "\n",
    "print(\"Mejor valor de C:\", best_C)\n"
   ],
   "metadata": {
    "collapsed": false
   },
   "id": "6284d87ebd8e72e4"
  },
  {
   "cell_type": "code",
   "execution_count": null,
   "outputs": [],
   "source": [
    "from sklearn.model_selection import GridSearchCV, StratifiedShuffleSplit\n",
    "from sklearn.svm import SVC\n",
    "\n",
    "C_range = np.logspace(-2, 10, 13)\n",
    "degree_range = np.logspace(-9, 3, 13)\n",
    "param_grid = dict(C=C_range, degree=degree_range)\n",
    "cv = StratifiedShuffleSplit(n_splits=10, test_size=0.1)\n",
    "grid = GridSearchCV(SVC(), param_grid=param_grid, cv=cv, n_jobs=-1)\n",
    "grid.fit(x, y)\n",
    "\n",
    "print(\n",
    "    \"The best parameters are %s with a score of %0.2f\"\n",
    "    % (grid.best_params_, grid.best_score_)\n",
    ")"
   ],
   "metadata": {
    "collapsed": false
   },
   "id": "8cdfb54ff0926bf"
  }
 ],
 "metadata": {
  "kernelspec": {
   "display_name": "Python 3",
   "language": "python",
   "name": "python3"
  },
  "language_info": {
   "codemirror_mode": {
    "name": "ipython",
    "version": 2
   },
   "file_extension": ".py",
   "mimetype": "text/x-python",
   "name": "python",
   "nbconvert_exporter": "python",
   "pygments_lexer": "ipython2",
   "version": "2.7.6"
  }
 },
 "nbformat": 4,
 "nbformat_minor": 5
}
